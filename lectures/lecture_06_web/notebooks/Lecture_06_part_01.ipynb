{
 "cells": [
  {
   "cell_type": "markdown",
   "metadata": {},
   "source": [
    "```sh\n",
    "# Установка python3.7\n",
    "sudo apt update\n",
    "sudo add-apt-repository ppa:deadsnakes/ppa\n",
    "sudo apt install python3.7\n",
    "\n",
    "# Установка виртуального окружения\n",
    "sudo apt-get install python3.7-venv\n",
    "python3.7 -m venv ~/.virtualenvs/atomPython\n",
    "source ~/.virtualenvs/atomPython/bin/activate\n",
    "\n",
    "# Если уже устанавливали\n",
    "source ~/.virtualenvs/atomPython/bin/activate\n",
    "\n",
    "# Установка пакетов\n",
    "pip install -r requirements_web.txt\n",
    "ipython kernel install --user --name=atom\n",
    "```"
   ]
  },
  {
   "cell_type": "code",
   "execution_count": 3,
   "metadata": {},
   "outputs": [
    {
     "name": "stdout",
     "output_type": "stream",
     "text": [
      "Collecting flask\n",
      "  Downloading https://files.pythonhosted.org/packages/9b/93/628509b8d5dc749656a9641f4caf13540e2cdec85276964ff8f43bbb1d3b/Flask-1.1.1-py2.py3-none-any.whl (94kB)\n",
      "\u001b[K    100% |████████████████████████████████| 102kB 1.2MB/s a 0:00:01\n",
      "\u001b[?25hCollecting Werkzeug>=0.15 (from flask)\n",
      "  Downloading https://files.pythonhosted.org/packages/ce/42/3aeda98f96e85fd26180534d36570e4d18108d62ae36f87694b476b83d6f/Werkzeug-0.16.0-py2.py3-none-any.whl (327kB)\n",
      "\u001b[K    100% |████████████████████████████████| 327kB 1.1MB/s ta 0:00:01\n",
      "\u001b[?25hCollecting click>=5.1 (from flask)\n",
      "  Downloading https://files.pythonhosted.org/packages/fa/37/45185cb5abbc30d7257104c434fe0b07e5a195a6847506c074527aa599ec/Click-7.0-py2.py3-none-any.whl (81kB)\n",
      "\u001b[K    100% |████████████████████████████████| 81kB 1.7MB/s ta 0:00:01\n",
      "\u001b[?25hRequirement already satisfied: Jinja2>=2.10.1 in /home/kirill/Документы/technoatom/python/hw/AppliedPythonF2019/env/lib/python3.6/site-packages (from flask)\n",
      "Collecting itsdangerous>=0.24 (from flask)\n",
      "  Downloading https://files.pythonhosted.org/packages/76/ae/44b03b253d6fade317f32c24d100b3b35c2239807046a4c953c7b89fa49e/itsdangerous-1.1.0-py2.py3-none-any.whl\n",
      "Requirement already satisfied: MarkupSafe>=0.23 in /home/kirill/Документы/technoatom/python/hw/AppliedPythonF2019/env/lib/python3.6/site-packages (from Jinja2>=2.10.1->flask)\n",
      "Installing collected packages: Werkzeug, click, itsdangerous, flask\n",
      "Successfully installed Werkzeug-0.16.0 click-7.0 flask-1.1.1 itsdangerous-1.1.0\n",
      "Note: you may need to restart the kernel to use updated packages.\n"
     ]
    }
   ],
   "source": [
    "pip install flask\n"
   ]
  },
  {
   "cell_type": "code",
   "execution_count": 1,
   "metadata": {
    "jupyter": {
     "outputs_hidden": false
    }
   },
   "outputs": [],
   "source": [
    "import requests"
   ]
  },
  {
   "cell_type": "code",
   "execution_count": 9,
   "metadata": {},
   "outputs": [
    {
     "name": "stdout",
     "output_type": "stream",
     "text": [
      " * Serving Flask app \"__main__\" (lazy loading)\n",
      " * Environment: production\n",
      "   WARNING: This is a development server. Do not use it in a production deployment.\n",
      "   Use a production WSGI server instead.\n",
      " * Debug mode: off\n"
     ]
    },
    {
     "name": "stderr",
     "output_type": "stream",
     "text": [
      " * Running on http://0.0.0.0:5000/ (Press CTRL+C to quit)\n",
      "127.0.0.1 - - [21/Oct/2019 19:54:35] \"GET /check/?id_val=7 HTTP/1.1\" 404 -\n",
      "127.0.0.1 - - [21/Oct/2019 19:56:24] \"GET /check?id_val=7 HTTP/1.1\" 200 -\n",
      "127.0.0.1 - - [21/Oct/2019 20:02:27] \"GET /check?id_val=7 HTTP/1.1\" 200 -\n",
      "10.3.13.142 - - [21/Oct/2019 20:05:35] \"GET /check?id_val=505 HTTP/1.1\" 200 -\n"
     ]
    }
   ],
   "source": [
    "from flask import Flask\n",
    "from flask import request\n",
    "\n",
    "app = Flask(__name__)\n",
    "\n",
    "@app.route(\"/\")\n",
    "def hello():\n",
    "    return \"Hello World!\"\n",
    "\n",
    "@app.route(\"/goodbye\")\n",
    "def good():\n",
    "    return \"Good World!\"\n",
    "\n",
    "@app.route(\"/check\")\n",
    "def nameId():\n",
    "    idval = request.args.get('id_val')\n",
    "    return \"Yurkov Kirill: {id}\".format(id=idval)\n",
    "\n",
    "app.run(host='0.0.0.0')\n",
    "\n"
   ]
  },
  {
   "cell_type": "code",
   "execution_count": null,
   "metadata": {},
   "outputs": [
    {
     "name": "stdout",
     "output_type": "stream",
     "text": [
      " * Serving Flask app \"__main__\" (lazy loading)\n",
      " * Environment: production\n",
      "   WARNING: This is a development server. Do not use it in a production deployment.\n",
      "   Use a production WSGI server instead.\n",
      " * Debug mode: off\n"
     ]
    },
    {
     "name": "stderr",
     "output_type": "stream",
     "text": [
      " * Running on http://127.0.0.1:5000/ (Press CTRL+C to quit)\n",
      "127.0.0.1 - - [21/Oct/2019 20:27:06] \"GET /user_info/14363463/companies/124214 HTTP/1.1\" 404 -\n"
     ]
    }
   ],
   "source": [
    "from flask import Flask\n",
    "\n",
    "app = Flask(__name__)\n",
    "\n",
    "# export FLASK_ENV=development\n",
    "# export FLASK_APP=server.py\n",
    "# flask run --host=127.0.0.1\n",
    "\n",
    "\n",
    "@app.route('/user_info/<user_id>/')\n",
    "def user_info_handler(user_id):\n",
    "    return f'user_info_handler: str:{isinstance(user_id, str)} -> {user_id}'\n",
    "\n",
    "\n",
    "@app.route('/user_info_int/<int:user_id>/')\n",
    "def user_info_int_handler(user_id):\n",
    "    return f'user_info_int_handler: int:{isinstance(user_id, int)} -> {user_id}'\n",
    "\n",
    "\n",
    "@app.route('/user_info_two/<int:user_id1>/companies/<int:user_id2>/')\n",
    "def user_info_two_handler(user_id1, user_id2):\n",
    "    return f\"user_info_two_handler: {','.join(map(str, (user_id1, user_id2)))}\"\n",
    "\n",
    "app.run()"
   ]
  },
  {
   "cell_type": "code",
   "execution_count": null,
   "metadata": {},
   "outputs": [],
   "source": []
  }
 ],
 "metadata": {
  "anaconda-cloud": {},
  "kernelspec": {
   "display_name": "Python 3",
   "language": "python",
   "name": "python3"
  },
  "language_info": {
   "codemirror_mode": {
    "name": "ipython",
    "version": 3
   },
   "file_extension": ".py",
   "mimetype": "text/x-python",
   "name": "python",
   "nbconvert_exporter": "python",
   "pygments_lexer": "ipython3",
   "version": "3.6.8"
  }
 },
 "nbformat": 4,
 "nbformat_minor": 4
}
